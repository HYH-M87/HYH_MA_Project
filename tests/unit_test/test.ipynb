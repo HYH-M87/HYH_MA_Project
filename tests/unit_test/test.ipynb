{
 "cells": [
  {
   "cell_type": "code",
   "execution_count": 1,
   "metadata": {},
   "outputs": [],
   "source": [
    "import numpy as np\n"
   ]
  },
  {
   "cell_type": "code",
   "execution_count": 2,
   "id": "ab18d5e7",
   "metadata": {},
   "outputs": [],
   "source": [
    "a=np.array([1,2,3,4])\n",
    "x,c,v,b = a"
   ]
  },
  {
   "cell_type": "code",
   "execution_count": 29,
   "id": "1d13ed15",
   "metadata": {},
   "outputs": [
    {
     "data": {
      "text/plain": [
       "{'a': 4}"
      ]
     },
     "execution_count": 29,
     "metadata": {},
     "output_type": "execute_result"
    }
   ],
   "source": [
    "c={'a':4}\n",
    "def f(d):\n",
    "    d['a'] = 5\n",
    "    \n",
    "c\n"
   ]
  },
  {
   "cell_type": "code",
   "execution_count": 40,
   "id": "12db1e16",
   "metadata": {},
   "outputs": [],
   "source": [
    "a=[]\n",
    "b=[np.array([1]),np.array([2])]"
   ]
  },
  {
   "cell_type": "code",
   "execution_count": 48,
   "id": "f4a69835",
   "metadata": {},
   "outputs": [
    {
     "data": {
      "text/plain": [
       "array([1, 2])"
      ]
     },
     "execution_count": 48,
     "metadata": {},
     "output_type": "execute_result"
    }
   ],
   "source": [
    "c=np.array([1])\n",
    "np.hstack((c,np.array([2])))"
   ]
  },
  {
   "cell_type": "code",
   "execution_count": 1,
   "id": "f52a6455",
   "metadata": {},
   "outputs": [],
   "source": [
    "a=[ {'n':1},{'n':1},{'n':2}, {'n':1}, {'n':2} ]"
   ]
  },
  {
   "cell_type": "code",
   "execution_count": 16,
   "id": "0bd39ea9",
   "metadata": {},
   "outputs": [
    {
     "name": "stdout",
     "output_type": "stream",
     "text": [
      "['DS000GH5.jpg', 'DS000GH6.jpg', 'DS000H04.jpg', 'DS000HVE.jpg', 'DS000HVG.jpg', 'DS000HVH.jpg', 'DS000HVI.jpg', 'DS000HXJ.jpg', 'DS000HXK.jpg', 'DS000HXL.jpg', 'DS000I6W.jpg', 'DS000I6X.jpg', 'DS000I6Z.jpg', 'DS000N9X.jpg', 'DS000N9Y.jpg', 'DS000N9Z.jpg', 'DS000NA1.jpg', 'DS000OQB.jpg', 'DS000QA2.jpg', 'DS000STU.jpg', 'DS000STW.jpg', 'DS000TZ5.jpg', 'DS000U30.jpg', 'DS000U4U.jpg', 'DS000V1O.jpg', 'DS000V1R.jpg', 'DS000V6O.jpg', 'DS000V6S.jpg', 'DS000VCN.jpg']\n",
      "['DS000GH5.jpg', 'DS000GH6.jpg', 'DS000H04.jpg', 'DS000HVE.jpg', 'DS000HVG.jpg', 'DS000HVH.jpg', 'DS000HVI.jpg', 'DS000HXJ.jpg', 'DS000HXK.jpg', 'DS000HXL.jpg', 'DS000I6W.jpg', 'DS000I6X.jpg', 'DS000I6Z.jpg', 'DS000N9X.jpg', 'DS000N9Y.jpg', 'DS000N9Z.jpg', 'DS000NA1.jpg', 'DS000OQB.jpg', 'DS000QA2.jpg', 'DS000STU.jpg', 'DS000STW.jpg', 'DS000TZ5.jpg', 'DS000U30.jpg', 'DS000U4U.jpg', 'DS000V1O.jpg', 'DS000V1R.jpg', 'DS000V6O.jpg', 'DS000V6S.jpg', 'DS000VCN.jpg']\n",
      "['DS000GH5.jpg', 'DS000GH6.jpg', 'DS000H04.jpg', 'DS000HVE.jpg', 'DS000HVG.jpg', 'DS000HVH.jpg', 'DS000HVI.jpg', 'DS000HXJ.jpg', 'DS000HXK.jpg', 'DS000HXL.jpg', 'DS000I6W.jpg', 'DS000I6X.jpg', 'DS000I6Z.jpg', 'DS000N9X.jpg', 'DS000N9Y.jpg', 'DS000N9Z.jpg', 'DS000NA1.jpg', 'DS000OQB.jpg', 'DS000QA2.jpg', 'DS000STU.jpg', 'DS000STW.jpg', 'DS000TZ5.jpg', 'DS000U30.jpg', 'DS000U4U.jpg', 'DS000V1O.jpg', 'DS000V1R.jpg', 'DS000V6O.jpg', 'DS000V6S.jpg', 'DS000VCN.jpg']\n",
      "['DS000GH5.jpg', 'DS000GH6.jpg', 'DS000H04.jpg', 'DS000HVE.jpg', 'DS000HVG.jpg', 'DS000HVH.jpg', 'DS000HVI.jpg', 'DS000HXJ.jpg', 'DS000HXK.jpg', 'DS000HXL.jpg', 'DS000I6W.jpg', 'DS000I6X.jpg', 'DS000I6Z.jpg', 'DS000N9X.jpg', 'DS000N9Y.jpg', 'DS000N9Z.jpg', 'DS000NA1.jpg', 'DS000OQB.jpg', 'DS000QA2.jpg', 'DS000STU.jpg', 'DS000STW.jpg', 'DS000TZ5.jpg', 'DS000U30.jpg', 'DS000U4U.jpg', 'DS000V1O.jpg', 'DS000V1R.jpg', 'DS000V6O.jpg', 'DS000V6S.jpg', 'DS000VCN.jpg']\n",
      "['DS000GH5.jpg', 'DS000GH6.jpg', 'DS000H04.jpg', 'DS000HVE.jpg', 'DS000HVG.jpg', 'DS000HVH.jpg', 'DS000HVI.jpg', 'DS000HXJ.jpg', 'DS000HXK.jpg', 'DS000HXL.jpg', 'DS000I6W.jpg', 'DS000I6X.jpg', 'DS000I6Z.jpg', 'DS000N9X.jpg', 'DS000N9Y.jpg', 'DS000N9Z.jpg', 'DS000NA1.jpg', 'DS000OQB.jpg', 'DS000QA2.jpg', 'DS000STU.jpg', 'DS000STW.jpg', 'DS000TZ5.jpg', 'DS000U30.jpg', 'DS000U4U.jpg', 'DS000V1O.jpg', 'DS000V1R.jpg', 'DS000V6O.jpg', 'DS000V6S.jpg', 'DS000VCN.jpg']\n"
     ]
    }
   ],
   "source": [
    "import os \n",
    "for i in range(5):\n",
    "    l = os.listdir(\"/home/hyh/Documents/quanyi/project/Data/e_optha_MA/MA/VOC2012/JPEGImages\")\n",
    "    l.sort()\n",
    "    print(l[-29:])"
   ]
  },
  {
   "cell_type": "code",
   "execution_count": 5,
   "id": "f34cd0e0",
   "metadata": {},
   "outputs": [],
   "source": [
    "import numpy as np\n",
    "a=np.array([1,2,3])"
   ]
  },
  {
   "cell_type": "code",
   "execution_count": 3,
   "id": "b5a86d12",
   "metadata": {},
   "outputs": [
    {
     "data": {
      "text/plain": [
       "array(['1', '2', '3'], dtype='<U21')"
      ]
     },
     "execution_count": 3,
     "metadata": {},
     "output_type": "execute_result"
    }
   ],
   "source": [
    "import "
   ]
  },
  {
   "cell_type": "code",
   "execution_count": 4,
   "id": "09731f29",
   "metadata": {},
   "outputs": [
    {
     "ename": "AttributeError",
     "evalue": "'numpy.ndarray' object has no attribute 'append'",
     "output_type": "error",
     "traceback": [
      "\u001b[0;31m---------------------------------------------------------------------------\u001b[0m",
      "\u001b[0;31mAttributeError\u001b[0m                            Traceback (most recent call last)",
      "Cell \u001b[0;32mIn[4], line 1\u001b[0m\n\u001b[0;32m----> 1\u001b[0m \u001b[43ma\u001b[49m\u001b[38;5;241;43m.\u001b[39;49m\u001b[43mappend\u001b[49m(\u001b[38;5;124m'\u001b[39m\u001b[38;5;124m1\u001b[39m\u001b[38;5;124m'\u001b[39m)\n",
      "\u001b[0;31mAttributeError\u001b[0m: 'numpy.ndarray' object has no attribute 'append'"
     ]
    }
   ],
   "source": [
    "a.append('1')"
   ]
  },
  {
   "cell_type": "code",
   "execution_count": 3,
   "id": "a9ab50b6",
   "metadata": {},
   "outputs": [
    {
     "ename": "NameError",
     "evalue": "name 'a' is not defined",
     "output_type": "error",
     "traceback": [
      "\u001b[0;31m---------------------------------------------------------------------------\u001b[0m",
      "\u001b[0;31mNameError\u001b[0m                                 Traceback (most recent call last)",
      "Cell \u001b[0;32mIn[3], line 6\u001b[0m\n\u001b[1;32m      4\u001b[0m         \u001b[38;5;28mprint\u001b[39m(a)\n\u001b[1;32m      5\u001b[0m     k()\n\u001b[0;32m----> 6\u001b[0m \u001b[38;5;28mprint\u001b[39m(\u001b[43ma\u001b[49m)\n\u001b[1;32m      7\u001b[0m f()\n",
      "\u001b[0;31mNameError\u001b[0m: name 'a' is not defined"
     ]
    }
   ],
   "source": [
    "def f():\n",
    "    a=1\n",
    "    def k():\n",
    "        print(a)\n",
    "    k()\n",
    "print(a)\n",
    "f()"
   ]
  },
  {
   "cell_type": "code",
   "execution_count": 8,
   "id": "26f5ffbb",
   "metadata": {},
   "outputs": [
    {
     "name": "stdout",
     "output_type": "stream",
     "text": [
      "Processing [########################################] 100/100 [100%] in 10.0s (9.98/s) \n"
     ]
    }
   ],
   "source": [
    "from alive_progress import alive_bar\n",
    "import time\n",
    "\n",
    "items = range(100)\n",
    "with alive_bar(len(items), title=\"Processing\", bar=\"classic2\", spinner=\"dots_waves2\") as bar:\n",
    "    for item in items:\n",
    "        time.sleep(0.1)\n",
    "        bar()"
   ]
  },
  {
   "cell_type": "code",
   "execution_count": 14,
   "id": "d18d9763",
   "metadata": {},
   "outputs": [
    {
     "data": {
      "text/plain": [
       "True"
      ]
     },
     "execution_count": 14,
     "metadata": {},
     "output_type": "execute_result"
    }
   ],
   "source": [
    "a=np.array([True,False])\n",
    "a.any()"
   ]
  },
  {
   "cell_type": "code",
   "execution_count": 19,
   "id": "0e557c70",
   "metadata": {},
   "outputs": [
    {
     "name": "stdout",
     "output_type": "stream",
     "text": [
      "{'a': 1, 'b': 2}\n",
      "<class 'dict'>\n"
     ]
    }
   ],
   "source": [
    "class abc:\n",
    "\n",
    "    def func(self, **kwargs):\n",
    "        print(kwargs)\n",
    "        print(type(kwargs))\n",
    "        \n",
    "    def f3(self,f):\n",
    "        f[0](a=1,b=2)\n",
    "        \n",
    "    def f2(self):\n",
    "        self.f3([self.func])\n",
    "\n",
    "abc_ = abc()\n",
    "abc_.f2()\n"
   ]
  },
  {
   "cell_type": "code",
   "execution_count": 7,
   "id": "e727a5bb",
   "metadata": {},
   "outputs": [
    {
     "ename": "SyntaxError",
     "evalue": "invalid syntax (2263201311.py, line 1)",
     "output_type": "error",
     "traceback": [
      "\u001b[0;36m  Cell \u001b[0;32mIn[7], line 1\u001b[0;36m\u001b[0m\n\u001b[0;31m    f=(Annotation_Txt_Dir='Annotations_Txt',)\u001b[0m\n\u001b[0m                         ^\u001b[0m\n\u001b[0;31mSyntaxError\u001b[0m\u001b[0;31m:\u001b[0m invalid syntax\n"
     ]
    }
   ],
   "source": [
    "f=(Annotation_Txt_Dir='Annotations_Txt',)"
   ]
  },
  {
   "cell_type": "code",
   "execution_count": 18,
   "id": "03224778",
   "metadata": {},
   "outputs": [
    {
     "data": {
      "text/plain": [
       "True"
      ]
     },
     "execution_count": 18,
     "metadata": {},
     "output_type": "execute_result"
    }
   ],
   "source": [
    "f={'a':1}\n",
    "'a' in f.keys()"
   ]
  },
  {
   "cell_type": "code",
   "execution_count": 19,
   "id": "51e0ca4f",
   "metadata": {},
   "outputs": [
    {
     "data": {
      "text/plain": [
       "[1, 2, 3, 4]"
      ]
     },
     "execution_count": 19,
     "metadata": {},
     "output_type": "execute_result"
    }
   ],
   "source": [
    "a=[1,2,3,4]\n",
    "b=a[0:2]\n",
    "b[0]=4\n",
    "a"
   ]
  },
  {
   "cell_type": "code",
   "execution_count": 23,
   "id": "6354b0e4",
   "metadata": {},
   "outputs": [
    {
     "data": {
      "text/plain": [
       "array([ True, False])"
      ]
     },
     "execution_count": 23,
     "metadata": {},
     "output_type": "execute_result"
    }
   ],
   "source": [
    "b=np.array([True,False])\n",
    "a=np.array([True,True])\n",
    "np.logical_and(a,b)"
   ]
  },
  {
   "cell_type": "code",
   "execution_count": 31,
   "id": "891663b6",
   "metadata": {},
   "outputs": [
    {
     "data": {
      "text/plain": [
       "array([[1, 2],\n",
       "       [3, 4],\n",
       "       [5, 6]])"
      ]
     },
     "execution_count": 31,
     "metadata": {},
     "output_type": "execute_result"
    }
   ],
   "source": [
    "a=np.array([[1,2],[3,4],[5,6]])\n",
    "a"
   ]
  },
  {
   "cell_type": "code",
   "execution_count": 33,
   "id": "61993d44",
   "metadata": {},
   "outputs": [
    {
     "data": {
      "text/plain": [
       "array([[1, 2],\n",
       "       [3, 4],\n",
       "       [5, 6]])"
      ]
     },
     "execution_count": 33,
     "metadata": {},
     "output_type": "execute_result"
    }
   ],
   "source": [
    "a[:,:]"
   ]
  },
  {
   "cell_type": "code",
   "execution_count": 35,
   "id": "0d278656",
   "metadata": {},
   "outputs": [
    {
     "name": "stderr",
     "output_type": "stream",
     "text": [
      "Processing: 100%|██████████| 50/50 [00:05<00:00,  9.80it/s]\n"
     ]
    }
   ],
   "source": [
    "from tqdm import tqdm\n",
    "import time\n",
    "\n",
    "outer_iterations = 5\n",
    "inner_iterations = 10\n",
    "total_iterations = outer_iterations * inner_iterations\n",
    "\n",
    "# 创建一个总的进度条\n",
    "with tqdm(total=total_iterations, desc=\"Processing\") as pbar:\n",
    "    for i in range(outer_iterations):\n",
    "        for j in range(inner_iterations):\n",
    "            # 模拟一些工作\n",
    "            time.sleep(0.1)\n",
    "            # 每次内层循环迭代时更新进度条\n",
    "            pbar.update(1)\n"
   ]
  },
  {
   "cell_type": "code",
   "execution_count": 45,
   "id": "bebd6e4d",
   "metadata": {},
   "outputs": [
    {
     "data": {
      "text/plain": [
       "[12, 3, 12, 3]"
      ]
     },
     "execution_count": 45,
     "metadata": {},
     "output_type": "execute_result"
    }
   ],
   "source": [
    "a=[12,3]\n",
    "a*=2\n",
    "a"
   ]
  },
  {
   "cell_type": "code",
   "execution_count": 66,
   "id": "7f002583",
   "metadata": {},
   "outputs": [
    {
     "name": "stdout",
     "output_type": "stream",
     "text": [
      "[[1]\n",
      " [2]]\n",
      "[[2]\n",
      " [1]]\n",
      "[[1]\n",
      " [2]]\n",
      "[[2]\n",
      " [1]]\n",
      "[array([[2],\n",
      "       [1]]), array([[2],\n",
      "       [1]]), array([[2],\n",
      "       [1]]), array([[2],\n",
      "       [1]])]\n"
     ]
    }
   ],
   "source": [
    "import random\n",
    "import torch\n",
    "a=np.array([[1],[2]])\n",
    "# a=torch.tensor([1,2,3,4])\n",
    "p=[]\n",
    "for i in range(4):\n",
    "    np.random.shuffle(a)\n",
    "    print((a))\n",
    "    p.append(a[:])\n",
    "print(p)\n"
   ]
  },
  {
   "cell_type": "code",
   "execution_count": 37,
   "id": "668bbdbf",
   "metadata": {},
   "outputs": [
    {
     "name": "stdout",
     "output_type": "stream",
     "text": [
      "1.5\n"
     ]
    }
   ],
   "source": [
    "a=np.array([[1],[2]])\n",
    "print(np.average(a))\n"
   ]
  },
  {
   "cell_type": "code",
   "execution_count": 47,
   "id": "8b17a9b3",
   "metadata": {},
   "outputs": [],
   "source": [
    "a=np.array([[1],[2]])\n",
    "mask = [False,False]"
   ]
  },
  {
   "cell_type": "code",
   "execution_count": 48,
   "id": "ce74a4f7",
   "metadata": {},
   "outputs": [
    {
     "name": "stderr",
     "output_type": "stream",
     "text": [
      "/tmp/ipykernel_35670/2246639128.py:1: DeprecationWarning: The truth value of an empty array is ambiguous. Returning False, but in future this will result in an error. Use `array.size > 0` to check that an array is not empty.\n",
      "  if(a[mask]):\n"
     ]
    }
   ],
   "source": [
    "if(a[mask]):\n",
    "    print(1)"
   ]
  },
  {
   "cell_type": "code",
   "execution_count": 50,
   "id": "afeed315",
   "metadata": {},
   "outputs": [
    {
     "data": {
      "text/plain": [
       "[array([1]), array([2])]"
      ]
     },
     "execution_count": 50,
     "metadata": {},
     "output_type": "execute_result"
    }
   ],
   "source": [
    "a=[]\n",
    "b=np.array([[1],[2]])\n",
    "a.extend(b)\n",
    "a"
   ]
  },
  {
   "cell_type": "code",
   "execution_count": 52,
   "id": "d9740742",
   "metadata": {},
   "outputs": [],
   "source": [
    "import json\n",
    "\n",
    "x = [{'name':'你猜','age':19,'city':'四川'},{'name':'你猜','age':20,'city':'四川'}]\n",
    "\n",
    "#把python编码成json放在那个文件里\n",
    "filename = 'pi_x.json'\n",
    "with open (filename,'a') as f:\n",
    "    for i in x:\n",
    "        json.dump(i,f)"
   ]
  },
  {
   "cell_type": "code",
   "execution_count": 54,
   "id": "0e3d9732",
   "metadata": {},
   "outputs": [
    {
     "name": "stdout",
     "output_type": "stream",
     "text": [
      "{'name': '你猜', 'age': 19, 'city': '四川'}\n"
     ]
    }
   ],
   "source": [
    "import json\n",
    "\n",
    "# 从 JSON 文件读取字典\n",
    "with open('pi_x.json', 'r') as json_file:\n",
    "    data = json.load(json_file)\n",
    "\n",
    "print(data)"
   ]
  },
  {
   "cell_type": "code",
   "execution_count": 13,
   "id": "d74d59aa",
   "metadata": {},
   "outputs": [],
   "source": [
    "import numpy as np\n",
    "a=np.array([[True,False],[False,False]])"
   ]
  },
  {
   "cell_type": "code",
   "execution_count": 1,
   "id": "31d4b2ab",
   "metadata": {},
   "outputs": [],
   "source": [
    "a=[[1]]\n",
    "b=['a',a]"
   ]
  },
  {
   "cell_type": "code",
   "execution_count": 3,
   "id": "f949e565",
   "metadata": {},
   "outputs": [
    {
     "name": "stdout",
     "output_type": "stream",
     "text": [
      "1\n"
     ]
    }
   ],
   "source": [
    "c={\"asd\":4}\n",
    "for k,v in c.items():\n",
    "    if k.endswith('d'):\n",
    "        print(1)"
   ]
  },
  {
   "cell_type": "code",
   "execution_count": 47,
   "id": "49e42652",
   "metadata": {},
   "outputs": [
    {
     "name": "stdout",
     "output_type": "stream",
     "text": [
      "[[1 1]\n",
      " [2 2]]\n",
      "[[1 1]\n",
      " [2 2]]\n"
     ]
    },
    {
     "data": {
      "text/plain": [
       "array([[1, 1],\n",
       "       [2, 2],\n",
       "       [3, 3]])"
      ]
     },
     "execution_count": 47,
     "metadata": {},
     "output_type": "execute_result"
    }
   ],
   "source": [
    "import numpy as np\n",
    "a=np.array([[1,1],[2,2],[3,3]])\n",
    "b=np.array([1,2,3,4])\n",
    "mask=[True,True,False]\n",
    "print(a[mask])\n",
    "print(a[0:2])\n",
    "a[mask][:,0]=4\n",
    "a\n"
   ]
  },
  {
   "cell_type": "code",
   "execution_count": 53,
   "id": "bd9fbaa8",
   "metadata": {},
   "outputs": [
    {
     "data": {
      "text/plain": [
       "[1, 2, 3]"
      ]
     },
     "execution_count": 53,
     "metadata": {},
     "output_type": "execute_result"
    }
   ],
   "source": [
    "a=[1,2,3]\n",
    "b=a[:]\n",
    "b[0]=4\n",
    "a"
   ]
  },
  {
   "cell_type": "code",
   "execution_count": 54,
   "id": "6764b43e",
   "metadata": {},
   "outputs": [
    {
     "name": "stdout",
     "output_type": "stream",
     "text": [
      "Original list a: [[10, 2], [3, 4], [5, 6]]\n",
      "Sliced list b: [[10, 2], [3, 4], [5, 6]]\n"
     ]
    }
   ],
   "source": [
    "a = [[1, 2], [3, 4], [5, 6]]\n",
    "b = a[:]\n",
    "\n",
    "# 修改 b 中的一个元素\n",
    "b[0][0] = 10\n",
    "\n",
    "print(\"Original list a:\", a)\n",
    "print(\"Sliced list b:\", b)"
   ]
  },
  {
   "cell_type": "code",
   "execution_count": 55,
   "id": "afff2d9e",
   "metadata": {},
   "outputs": [
    {
     "name": "stdout",
     "output_type": "stream",
     "text": [
      "Original list a: [[1, 2], [3, 4], [5, 6]]\n",
      "Sliced list b: [[10, 20], [3, 4], [5, 6]]\n"
     ]
    }
   ],
   "source": [
    "a = [[1, 2], [3, 4], [5, 6]]\n",
    "b = a[:]\n",
    "\n",
    "# 替换 b 中的一个元素\n",
    "b[0] = [10, 20]\n",
    "\n",
    "print(\"Original list a:\", a)\n",
    "print(\"Sliced list b:\", b)"
   ]
  },
  {
   "cell_type": "code",
   "execution_count": 110,
   "id": "2408ae44",
   "metadata": {},
   "outputs": [
    {
     "name": "stdout",
     "output_type": "stream",
     "text": [
      "变量地址\n",
      "139736702734784\n",
      "139736702737088\n",
      "139736702734784\n",
      "内层变量地址\n",
      "139736702881280\n",
      "139736702881280\n",
      "139736702881280\n",
      "139736702878464\n",
      "139736702878464\n",
      "139736702878464\n",
      "139736365971904\n",
      "139736365971904\n",
      "139736365971904\n",
      "变量地址\n",
      "139736753920304\n",
      "139736753920304\n",
      "139736753920304\n",
      "139736753920368\n",
      "139736753920368\n",
      "139736753920368\n",
      "139736753920432\n",
      "139736753920432\n",
      "139736753920432\n"
     ]
    }
   ],
   "source": [
    "a = [[1, 2], [3, 4], [5, 6]]\n",
    "mask = [True,False,True]\n",
    "b = a[:]\n",
    "c = a\n",
    "print(\"变量地址\")\n",
    "print(id(a))\n",
    "print(id(b))\n",
    "print(id(c))\n",
    "print('内层变量地址')\n",
    "for i in range(3):\n",
    "    print(id(a[i]))\n",
    "    print(id(c[i]))\n",
    "    print(id(b[i]))\n",
    "print('变量地址')\n",
    "for i in range(3):\n",
    "    print(id(a[i][0]))\n",
    "    print(id(c[i][0]))\n",
    "    print(id(b[i][0]))\n",
    "    \n"
   ]
  },
  {
   "cell_type": "code",
   "execution_count": 108,
   "id": "6d68be1f",
   "metadata": {},
   "outputs": [
    {
     "data": {
      "text/plain": [
       "[[1, 2], [3, 4], [5, 6]]"
      ]
     },
     "execution_count": 108,
     "metadata": {},
     "output_type": "execute_result"
    }
   ],
   "source": [
    "b[0] = [4,5]\n",
    "a"
   ]
  },
  {
   "cell_type": "markdown",
   "id": "7ea45e4a",
   "metadata": {},
   "source": []
  },
  {
   "cell_type": "code",
   "execution_count": null,
   "metadata": {},
   "outputs": [],
   "source": []
  },
  {
   "cell_type": "code",
   "execution_count": 139,
   "id": "e0357e98",
   "metadata": {},
   "outputs": [
    {
     "name": "stdout",
     "output_type": "stream",
     "text": [
      "变量地址\n",
      "139736365954320\n",
      "139736365954416\n",
      "139736365954704\n",
      "139736365953456\n",
      "内层变量地址\n",
      "139736365954608\n",
      "139736365954512\n",
      "139736365954800\n",
      "139736365954224\n",
      "139736365953552\n",
      "139736365954032\n",
      "139736365954800\n",
      "139736365954512\n",
      "139736365954608\n",
      "元素地址\n",
      "139736365820080\n",
      "139736365819792\n",
      "139736365820080\n",
      "139736365819792\n",
      "139736365820080\n",
      "139736365819792\n",
      "139736365820080\n",
      "139736365819792\n",
      "139736365820080\n",
      "xiugai\n",
      "变量地址\n",
      "139736365954320\n",
      "139736365954416\n",
      "139736365954704\n",
      "内层变量地址\n",
      "139736365954032\n",
      "139736365953552\n",
      "139736365954224\n",
      "139736365954608\n",
      "139736365954512\n",
      "139736365954800\n",
      "139736365954224\n",
      "139736365953552\n",
      "139736365954032\n",
      "元素地址\n",
      "139736365819568\n",
      "139736365819952\n",
      "139736365819568\n",
      "139736365819952\n",
      "139736365819568\n",
      "139736365819952\n",
      "139736365819568\n",
      "139736365819952\n",
      "139736365819568\n",
      "[[55 66]\n",
      " [ 3  4]\n",
      " [ 5  6]]\n",
      "[[55 66]\n",
      " [ 3  4]\n",
      " [ 5  6]]\n",
      "[[44 55]\n",
      " [ 3  4]\n",
      " [ 5  6]]\n"
     ]
    }
   ],
   "source": [
    "import numpy as np\n",
    "\n",
    "a = np.array([[1, 2], [3, 4], [5, 6]])\n",
    "mask = [True, True, True]\n",
    "b = a[:,:]\n",
    "c = a.copy()\n",
    "d = a[mask]\n",
    "\n",
    "print(\"变量地址\")\n",
    "print(id(a))\n",
    "print(id(b))\n",
    "print(id(d))\n",
    "print(id(c))\n",
    "\n",
    "print(\"内层变量地址\")\n",
    "for ai,bi,di in zip(a,b,d):\n",
    "    print(id(ai))\n",
    "    print(id(bi))\n",
    "    print(id(di))\n",
    "\n",
    "print(\"元素地址\")\n",
    "for i in range(3):\n",
    "    print(id(a[i][0]))\n",
    "    print(id(b[i][0]))\n",
    "    print(id(d[i][0]))\n",
    "    \n",
    "    \n",
    "    \n",
    "    \n",
    "print(\"xiugai\")\n",
    "d[0] = [44,55]\n",
    "b[0] = [55,66]\n",
    "\n",
    "print(\"变量地址\")\n",
    "print(id(a))\n",
    "print(id(b))\n",
    "print(id(d))\n",
    "\n",
    "print(\"内层变量地址\")\n",
    "for ai,bi,di in zip(a,b,d):\n",
    "    print(id(ai))\n",
    "    print(id(bi))\n",
    "    print(id(di))\n",
    "\n",
    "print(\"元素地址\")\n",
    "for i in range(3):\n",
    "    print(id(a[i][0]))\n",
    "    print(id(b[i][0]))\n",
    "    print(id(d[i][0]))\n",
    "\n",
    "\n",
    "print(a)\n",
    "print(b)\n",
    "print(d)\n",
    "    "
   ]
  },
  {
   "cell_type": "code",
   "execution_count": 205,
   "id": "a5522587",
   "metadata": {},
   "outputs": [
    {
     "name": "stdout",
     "output_type": "stream",
     "text": [
      "-2\n"
     ]
    }
   ],
   "source": [
    "\n",
    "a=True\n",
    "print(~ a)"
   ]
  },
  {
   "cell_type": "code",
   "execution_count": 165,
   "id": "51dcfa11",
   "metadata": {},
   "outputs": [
    {
     "data": {
      "text/plain": [
       "array([[5, 7, 9]])"
      ]
     },
     "execution_count": 165,
     "metadata": {},
     "output_type": "execute_result"
    }
   ],
   "source": [
    "a=np.array([[1,2,3,4]])\n",
    "b=np.array([4,5,6])\n",
    "a[:,0:3]+b"
   ]
  },
  {
   "cell_type": "code",
   "execution_count": 178,
   "id": "03001efa",
   "metadata": {},
   "outputs": [
    {
     "data": {
      "text/plain": [
       "array([], shape=(0, 4), dtype=float64)"
      ]
     },
     "execution_count": 178,
     "metadata": {},
     "output_type": "execute_result"
    }
   ],
   "source": [
    "a = np.array([])\n",
    "b=np.array([4,5,6,7])\n",
    "a.resize([a.shape[0],4])\n",
    "a+b\n"
   ]
  },
  {
   "cell_type": "code",
   "execution_count": 182,
   "id": "615789a6",
   "metadata": {},
   "outputs": [
    {
     "name": "stdout",
     "output_type": "stream",
     "text": [
      "[]\n"
     ]
    }
   ],
   "source": [
    "a = np.array([])\n",
    "a.resize([0,5])\n",
    "print(a)"
   ]
  },
  {
   "cell_type": "code",
   "execution_count": 191,
   "id": "2641737d",
   "metadata": {},
   "outputs": [
    {
     "name": "stdout",
     "output_type": "stream",
     "text": [
      "[4.453123 5.786456 6.45643  7.456123]\n"
     ]
    }
   ],
   "source": [
    "b=np.array([4.453123,5.786456,6.45643,7.456123])"
   ]
  },
  {
   "cell_type": "code",
   "execution_count": 193,
   "id": "a118bf7b",
   "metadata": {},
   "outputs": [
    {
     "data": {
      "text/plain": [
       "7.456123"
      ]
     },
     "execution_count": 193,
     "metadata": {},
     "output_type": "execute_result"
    }
   ],
   "source": [
    "b[np.argmax(b)]\n"
   ]
  },
  {
   "cell_type": "code",
   "execution_count": 18,
   "id": "cf5bd72c",
   "metadata": {},
   "outputs": [],
   "source": [
    "b = a['a']\n",
    "b=4"
   ]
  },
  {
   "cell_type": "code",
   "execution_count": 19,
   "id": "e1e2e469",
   "metadata": {},
   "outputs": [
    {
     "data": {
      "text/plain": [
       "{'a': 2}"
      ]
     },
     "execution_count": 19,
     "metadata": {},
     "output_type": "execute_result"
    }
   ],
   "source": [
    "a"
   ]
  },
  {
   "cell_type": "code",
   "execution_count": 20,
   "id": "34abc1b1",
   "metadata": {},
   "outputs": [
    {
     "data": {
      "text/plain": [
       "4"
      ]
     },
     "execution_count": 20,
     "metadata": {},
     "output_type": "execute_result"
    }
   ],
   "source": [
    "b"
   ]
  },
  {
   "cell_type": "code",
   "execution_count": 31,
   "id": "7021b91a",
   "metadata": {},
   "outputs": [],
   "source": [
    "a=np.array([[True],[True]])\n",
    "b=np.logical_not(a)"
   ]
  },
  {
   "cell_type": "code",
   "execution_count": 32,
   "id": "a98430c5",
   "metadata": {},
   "outputs": [
    {
     "data": {
      "text/plain": [
       "2"
      ]
     },
     "execution_count": 32,
     "metadata": {},
     "output_type": "execute_result"
    }
   ],
   "source": [
    "np.sum(a)"
   ]
  },
  {
   "cell_type": "code",
   "execution_count": 33,
   "id": "193c01ea",
   "metadata": {},
   "outputs": [
    {
     "ename": "ValueError",
     "evalue": "zero-size array to reduction operation maximum which has no identity",
     "output_type": "error",
     "traceback": [
      "\u001b[0;31m---------------------------------------------------------------------------\u001b[0m",
      "\u001b[0;31mValueError\u001b[0m                                Traceback (most recent call last)",
      "Cell \u001b[0;32mIn[33], line 4\u001b[0m\n\u001b[1;32m      2\u001b[0m b\u001b[38;5;241m=\u001b[39mnp\u001b[38;5;241m.\u001b[39marray([\u001b[38;5;241m1\u001b[39m,\u001b[38;5;241m2\u001b[39m,\u001b[38;5;241m3\u001b[39m,\u001b[38;5;241m4\u001b[39m])\n\u001b[1;32m      3\u001b[0m mask\u001b[38;5;241m=\u001b[39m[\u001b[38;5;28;01mFalse\u001b[39;00m,\u001b[38;5;28;01mFalse\u001b[39;00m,\u001b[38;5;28;01mFalse\u001b[39;00m,\u001b[38;5;28;01mFalse\u001b[39;00m]\n\u001b[0;32m----> 4\u001b[0m \u001b[43mnp\u001b[49m\u001b[38;5;241;43m.\u001b[39;49m\u001b[43mmax\u001b[49m\u001b[43m(\u001b[49m\u001b[43ma\u001b[49m\u001b[43m[\u001b[49m\u001b[43mmask\u001b[49m\u001b[43m]\u001b[49m\u001b[43m)\u001b[49m\n",
      "File \u001b[0;32m<__array_function__ internals>:200\u001b[0m, in \u001b[0;36mamax\u001b[0;34m(*args, **kwargs)\u001b[0m\n",
      "File \u001b[0;32m~/anaconda3/envs/mmlab/lib/python3.9/site-packages/numpy/core/fromnumeric.py:2820\u001b[0m, in \u001b[0;36mamax\u001b[0;34m(a, axis, out, keepdims, initial, where)\u001b[0m\n\u001b[1;32m   2703\u001b[0m \u001b[38;5;129m@array_function_dispatch\u001b[39m(_amax_dispatcher)\n\u001b[1;32m   2704\u001b[0m \u001b[38;5;28;01mdef\u001b[39;00m \u001b[38;5;21mamax\u001b[39m(a, axis\u001b[38;5;241m=\u001b[39m\u001b[38;5;28;01mNone\u001b[39;00m, out\u001b[38;5;241m=\u001b[39m\u001b[38;5;28;01mNone\u001b[39;00m, keepdims\u001b[38;5;241m=\u001b[39mnp\u001b[38;5;241m.\u001b[39m_NoValue, initial\u001b[38;5;241m=\u001b[39mnp\u001b[38;5;241m.\u001b[39m_NoValue,\n\u001b[1;32m   2705\u001b[0m          where\u001b[38;5;241m=\u001b[39mnp\u001b[38;5;241m.\u001b[39m_NoValue):\n\u001b[1;32m   2706\u001b[0m \u001b[38;5;250m    \u001b[39m\u001b[38;5;124;03m\"\"\"\u001b[39;00m\n\u001b[1;32m   2707\u001b[0m \u001b[38;5;124;03m    Return the maximum of an array or maximum along an axis.\u001b[39;00m\n\u001b[1;32m   2708\u001b[0m \n\u001b[0;32m   (...)\u001b[0m\n\u001b[1;32m   2818\u001b[0m \u001b[38;5;124;03m    5\u001b[39;00m\n\u001b[1;32m   2819\u001b[0m \u001b[38;5;124;03m    \"\"\"\u001b[39;00m\n\u001b[0;32m-> 2820\u001b[0m     \u001b[38;5;28;01mreturn\u001b[39;00m \u001b[43m_wrapreduction\u001b[49m\u001b[43m(\u001b[49m\u001b[43ma\u001b[49m\u001b[43m,\u001b[49m\u001b[43m \u001b[49m\u001b[43mnp\u001b[49m\u001b[38;5;241;43m.\u001b[39;49m\u001b[43mmaximum\u001b[49m\u001b[43m,\u001b[49m\u001b[43m \u001b[49m\u001b[38;5;124;43m'\u001b[39;49m\u001b[38;5;124;43mmax\u001b[39;49m\u001b[38;5;124;43m'\u001b[39;49m\u001b[43m,\u001b[49m\u001b[43m \u001b[49m\u001b[43maxis\u001b[49m\u001b[43m,\u001b[49m\u001b[43m \u001b[49m\u001b[38;5;28;43;01mNone\u001b[39;49;00m\u001b[43m,\u001b[49m\u001b[43m \u001b[49m\u001b[43mout\u001b[49m\u001b[43m,\u001b[49m\n\u001b[1;32m   2821\u001b[0m \u001b[43m                          \u001b[49m\u001b[43mkeepdims\u001b[49m\u001b[38;5;241;43m=\u001b[39;49m\u001b[43mkeepdims\u001b[49m\u001b[43m,\u001b[49m\u001b[43m \u001b[49m\u001b[43minitial\u001b[49m\u001b[38;5;241;43m=\u001b[39;49m\u001b[43minitial\u001b[49m\u001b[43m,\u001b[49m\u001b[43m \u001b[49m\u001b[43mwhere\u001b[49m\u001b[38;5;241;43m=\u001b[39;49m\u001b[43mwhere\u001b[49m\u001b[43m)\u001b[49m\n",
      "File \u001b[0;32m~/anaconda3/envs/mmlab/lib/python3.9/site-packages/numpy/core/fromnumeric.py:86\u001b[0m, in \u001b[0;36m_wrapreduction\u001b[0;34m(obj, ufunc, method, axis, dtype, out, **kwargs)\u001b[0m\n\u001b[1;32m     83\u001b[0m         \u001b[38;5;28;01melse\u001b[39;00m:\n\u001b[1;32m     84\u001b[0m             \u001b[38;5;28;01mreturn\u001b[39;00m reduction(axis\u001b[38;5;241m=\u001b[39maxis, out\u001b[38;5;241m=\u001b[39mout, \u001b[38;5;241m*\u001b[39m\u001b[38;5;241m*\u001b[39mpasskwargs)\n\u001b[0;32m---> 86\u001b[0m \u001b[38;5;28;01mreturn\u001b[39;00m \u001b[43mufunc\u001b[49m\u001b[38;5;241;43m.\u001b[39;49m\u001b[43mreduce\u001b[49m\u001b[43m(\u001b[49m\u001b[43mobj\u001b[49m\u001b[43m,\u001b[49m\u001b[43m \u001b[49m\u001b[43maxis\u001b[49m\u001b[43m,\u001b[49m\u001b[43m \u001b[49m\u001b[43mdtype\u001b[49m\u001b[43m,\u001b[49m\u001b[43m \u001b[49m\u001b[43mout\u001b[49m\u001b[43m,\u001b[49m\u001b[43m \u001b[49m\u001b[38;5;241;43m*\u001b[39;49m\u001b[38;5;241;43m*\u001b[39;49m\u001b[43mpasskwargs\u001b[49m\u001b[43m)\u001b[49m\n",
      "\u001b[0;31mValueError\u001b[0m: zero-size array to reduction operation maximum which has no identity"
     ]
    }
   ],
   "source": [
    "a=np.array([0,0,0,0])\n",
    "b=np.array([1,2,3,4])\n",
    "mask=[False,False,False,False]\n",
    "np.max(a[mask])"
   ]
  },
  {
   "cell_type": "code",
   "execution_count": 35,
   "id": "987c6c1f",
   "metadata": {},
   "outputs": [
    {
     "data": {
      "text/plain": [
       "False"
      ]
     },
     "execution_count": 35,
     "metadata": {},
     "output_type": "execute_result"
    }
   ],
   "source": [
    "bool(0)"
   ]
  },
  {
   "cell_type": "code",
   "execution_count": 50,
   "id": "84537082",
   "metadata": {},
   "outputs": [],
   "source": [
    "import json\n",
    "class NumpyDecoder(json.JSONDecoder):\n",
    "    def decode(self, s, **kwargs):\n",
    "        result = super().decode(s, **kwargs)\n",
    "        return self._convert(result)\n",
    "\n",
    "    def _convert(self, obj):\n",
    "        if isinstance(obj, list):\n",
    "            try:\n",
    "                return np.array(obj)\n",
    "            except ValueError:\n",
    "                return obj\n",
    "        elif isinstance(obj, dict):\n",
    "            return {key: self._convert(value) for key, value in obj.items()}\n",
    "        return obj\n"
   ]
  },
  {
   "cell_type": "code",
   "execution_count": 2,
   "id": "0ed96b3b",
   "metadata": {},
   "outputs": [],
   "source": [
    "a=[]\n",
    "c=\"as\"\n",
    "d=1\n",
    "e=[1,2,3]\n",
    "a.append([c,d,e])"
   ]
  },
  {
   "cell_type": "code",
   "execution_count": 4,
   "id": "5db28b38",
   "metadata": {},
   "outputs": [
    {
     "name": "stdout",
     "output_type": "stream",
     "text": [
      "as\n",
      "1\n",
      "[1, 2, 3]\n"
     ]
    }
   ],
   "source": [
    "for c,d,e in a:\n",
    "    print(c)\n",
    "    print(d)\n",
    "    print(e)"
   ]
  },
  {
   "cell_type": "code",
   "execution_count": 6,
   "id": "7f585bb5",
   "metadata": {},
   "outputs": [
    {
     "data": {
      "text/plain": [
       "[2, 3, 4]"
      ]
     },
     "execution_count": 6,
     "metadata": {},
     "output_type": "execute_result"
    }
   ],
   "source": [
    "a=[1,2,3,4]\n",
    "a[1:]"
   ]
  },
  {
   "cell_type": "code",
   "execution_count": 7,
   "id": "860fd8e3",
   "metadata": {},
   "outputs": [
    {
     "name": "stdout",
     "output_type": "stream",
     "text": [
      "torch.Size([1, 3, 16])\n",
      "torch.Size([1, 3, 4])\n",
      "torch.Size([1, 3, 1])\n"
     ]
    }
   ],
   "source": [
    "import torch\n",
    "import torch.nn as nn\n",
    "\n",
    "class SpatialPyramidPooling(nn.Module):\n",
    "    def __init__(self, levels=[4, 2, 1]):\n",
    "        super(SpatialPyramidPooling, self).__init__()\n",
    "        self.levels = levels\n",
    "\n",
    "    def forward(self, x):\n",
    "        b, c, h, w = x.size()\n",
    "        output = []\n",
    "\n",
    "        for level in self.levels:\n",
    "            kernel_size = (h // level, w // level)\n",
    "            stride = kernel_size\n",
    "            pooling = nn.AdaptiveMaxPool2d((level, level))\n",
    "            pooled = pooling(x)  # 池化操作\n",
    "            output.append(pooled.view(b, c, -1))  # 调整形状\n",
    "\n",
    "        return output\n",
    "\n",
    "# 示例用法\n",
    "b, c, h, w = 1, 3, 32, 32\n",
    "x = torch.randn(b, c, h, w)\n",
    "spp = SpatialPyramidPooling(levels=[4, 2, 1])\n",
    "output = spp(x)\n",
    "\n",
    "for o in output:\n",
    "    print(o.size())"
   ]
  },
  {
   "cell_type": "code",
   "execution_count": 70,
   "id": "64ccb581",
   "metadata": {},
   "outputs": [
    {
     "data": {
      "text/plain": [
       "tensor([[1.]])"
      ]
     },
     "execution_count": 70,
     "metadata": {},
     "output_type": "execute_result"
    }
   ],
   "source": [
    "b"
   ]
  },
  {
   "cell_type": "code",
   "execution_count": null,
   "id": "33dbbbfa",
   "metadata": {},
   "outputs": [],
   "source": []
  }
 ],
 "metadata": {
  "kernelspec": {
   "display_name": "py39",
   "language": "python",
   "name": "python3"
  },
  "language_info": {
   "codemirror_mode": {
    "name": "ipython",
    "version": 3
   },
   "file_extension": ".py",
   "mimetype": "text/x-python",
   "name": "python",
   "nbconvert_exporter": "python",
   "pygments_lexer": "ipython3",
   "version": "3.9.16"
  }
 },
 "nbformat": 4,
 "nbformat_minor": 5
}
